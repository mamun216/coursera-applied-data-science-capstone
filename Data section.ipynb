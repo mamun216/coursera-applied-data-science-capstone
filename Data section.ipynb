{
  "nbformat": 4,
  "nbformat_minor": 0,
  "metadata": {
    "colab": {
      "name": "Untitled9.ipynb",
      "provenance": [],
      "authorship_tag": "ABX9TyPqSrqYtmACN25ooJkJ8z7F",
      "include_colab_link": true
    },
    "kernelspec": {
      "name": "python3",
      "display_name": "Python 3"
    }
  },
  "cells": [
    {
      "cell_type": "markdown",
      "metadata": {
        "id": "view-in-github",
        "colab_type": "text"
      },
      "source": [
        "<a href=\"https://colab.research.google.com/github/mamun216/coursera-applied-data-science-capstone/blob/master/Data%20section.ipynb\" target=\"_parent\"><img src=\"https://colab.research.google.com/assets/colab-badge.svg\" alt=\"Open In Colab\"/></a>"
      ]
    },
    {
      "cell_type": "markdown",
      "metadata": {
        "id": "RMkxjAa-d4wq"
      },
      "source": [
        "# Where to Go When You Want to Eat Pizza ?\n",
        "## Data Science Capstone - IBM Data Science Professional Certificate on Coursera"
      ]
    },
    {
      "cell_type": "markdown",
      "metadata": {
        "id": "AcVSQ6AUdwVb"
      },
      "source": [
        "# Introduction-problem identification\n",
        "Let's say you have never been to the US and you want to have only pizza while you are there. So you want to go to a place with a high density of Pizza places around you. The problem we aim to solve is to analyze the Pizza stores' locations in the major US cities and find the best place for our tourist so that he can have a good pizza-tourism."
      ]
    },
    {
      "cell_type": "markdown",
      "metadata": {
        "id": "ZcyWKJt4ecvR"
      },
      "source": [
        "# Data section\n",
        "I will use the FourSquare API to collect data about locations of Pizza stores in 5 major US cities which are: New York,NY, San Francisco, CA, Jersey City, NJ, Boston, MA and Chicago,IL. These are one of the most populated US cities and I am hopeful that they will contain the best Pizza places in the US."
      ]
    },
    {
      "cell_type": "code",
      "metadata": {
        "id": "YjfD9dABdoEc"
      },
      "source": [
        ""
      ],
      "execution_count": null,
      "outputs": []
    },
    {
      "cell_type": "code",
      "metadata": {
        "id": "9pldmAx6dzL1"
      },
      "source": [
        ""
      ],
      "execution_count": null,
      "outputs": []
    }
  ]
}