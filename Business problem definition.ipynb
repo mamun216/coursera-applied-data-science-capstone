{
  "nbformat": 4,
  "nbformat_minor": 0,
  "metadata": {
    "colab": {
      "name": "Untitled9.ipynb",
      "provenance": [],
      "authorship_tag": "ABX9TyNJq7+MXqTTP7p2KsshCP4O",
      "include_colab_link": true
    },
    "kernelspec": {
      "name": "python3",
      "display_name": "Python 3"
    }
  },
  "cells": [
    {
      "cell_type": "markdown",
      "metadata": {
        "id": "view-in-github",
        "colab_type": "text"
      },
      "source": [
        "<a href=\"https://colab.research.google.com/github/mamun216/coursera-applied-data-science-capstone/blob/master/Business%20problem%20definition.ipynb\" target=\"_parent\"><img src=\"https://colab.research.google.com/assets/colab-badge.svg\" alt=\"Open In Colab\"/></a>"
      ]
    },
    {
      "cell_type": "markdown",
      "metadata": {
        "id": "RMkxjAa-d4wq"
      },
      "source": [
        "# Where to Go When You Want to Eat Pizza ?\n",
        "## Data Science Capstone - IBM Data Science Professional Certificate on Coursera"
      ]
    },
    {
      "cell_type": "markdown",
      "metadata": {
        "id": "AcVSQ6AUdwVb"
      },
      "source": [
        "# Introduction-problem identification\n",
        "Let's say you have never been to the US and you want to have only pizza while you are there. So you want to go to a place with a high density of Pizza places around you. The problem we aim to solve is to analyze the Pizza stores' locations in the major US cities and find the best place for our tourist so that he can have a good pizza-tourism."
      ]
    },
    {
      "cell_type": "code",
      "metadata": {
        "id": "YjfD9dABdoEc"
      },
      "source": [
        ""
      ],
      "execution_count": null,
      "outputs": []
    },
    {
      "cell_type": "code",
      "metadata": {
        "id": "9pldmAx6dzL1"
      },
      "source": [
        ""
      ],
      "execution_count": null,
      "outputs": []
    }
  ]
}